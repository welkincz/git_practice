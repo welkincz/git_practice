{
 "metadata": {
  "language_info": {
   "codemirror_mode": {
    "name": "ipython",
    "version": 3
   },
   "file_extension": ".py",
   "mimetype": "text/x-python",
   "name": "python",
   "nbconvert_exporter": "python",
   "pygments_lexer": "ipython3",
   "version": "3.9.0"
  },
  "orig_nbformat": 4,
  "kernelspec": {
   "name": "python3",
   "display_name": "Python 3.9.0 64-bit"
  },
  "interpreter": {
   "hash": "e44e41db11786db76544ae5bf756a1a1dda17056d8189bdc17eb6d4213282a93"
  }
 },
 "nbformat": 4,
 "nbformat_minor": 2,
 "cells": [
  {
   "cell_type": "code",
   "execution_count": 3,
   "metadata": {},
   "outputs": [
    {
     "output_type": "stream",
     "name": "stdout",
     "text": [
      "hello eric\n"
     ]
    }
   ],
   "source": [
    "def greet(name=\"charlie\"):\n",
    "    print(f\"hello {name}\")\n",
    "\n",
    "greet(\"eric\")"
   ]
  },
  {
   "cell_type": "code",
   "execution_count": 4,
   "metadata": {},
   "outputs": [
    {
     "output_type": "stream",
     "name": "stdout",
     "text": [
      "hello charlie\nwhat is it like to live in zhuhai\n"
     ]
    }
   ],
   "source": [
    "def greet(name,location):\n",
    "    print(f\"hello {name}\")\n",
    "    print(f\"what is it like to live in {location}\")\n",
    "\n",
    "greet(\"charlie\",\"zhuhai\")"
   ]
  },
  {
   "cell_type": "code",
   "execution_count": 6,
   "metadata": {},
   "outputs": [
    {
     "output_type": "stream",
     "name": "stdout",
     "text": [
      "5\n"
     ]
    }
   ],
   "source": [
    "#Write your code below this line 👇\n",
    "import math\n",
    "def paint_calc(height,width,cover):\n",
    "    area= height*width\n",
    "    num_cans=math.ceil(area/coverage)\n",
    "    print(num_cans)\n",
    "\n",
    "\n",
    "\n",
    "\n",
    "#Write your code above this line 👆\n",
    "# Define a function called paint_calc() so that the code below works.   \n",
    "\n",
    "# 🚨 Don't change the code below 👇\n",
    "test_h = int(input(\"Height of wall: \"))\n",
    "test_w = int(input(\"Width of wall: \"))\n",
    "coverage = 5\n",
    "paint_calc(height=test_h, width=test_w, cover=coverage)\n"
   ]
  },
  {
   "cell_type": "code",
   "execution_count": 30,
   "metadata": {},
   "outputs": [],
   "source": [
    "# prime number check\n",
    "def prime(number):\n",
    "    is_prime =True\n",
    "    for i in range(2,number):\n",
    "        if number % i ==0:\n",
    "            is_prime= False\n",
    "    if is_prime:\n",
    "        print(i+1)\n",
    "\n"
   ]
  },
  {
   "cell_type": "code",
   "execution_count": null,
   "metadata": {},
   "outputs": [],
   "source": [
    "alphabet = ['a', 'b', 'c', 'd', 'e', 'f', 'g', 'h', 'i', 'j', 'k', 'l', 'm', 'n', 'o', 'p', 'q', 'r', 's', 't', 'u', 'v', 'w', 'x', 'y', 'z', 'a', 'b', 'c', 'd', 'e', 'f', 'g', 'h', 'i', 'j', 'k', 'l', 'm', 'n', 'o', 'p', 'q', 'r', 's', 't', 'u', 'v', 'w', 'x', 'y', 'z']\n",
    "\n",
    "direction = input(\"Type 'encode' to encrypt, type 'decode' to decrypt:\\n\")\n",
    "text = input(\"Type your message:\\n\").lower()\n",
    "shift = int(input(\"Type the shift number:\\n\"))\n",
    "\n",
    "#Don't change the code above 👆\n",
    "\n",
    "#TODO-1: Create a function called 'encrypt' that takes the 'text' and 'shift' as inputs.\n",
    "def encrypt(plain_text, shift_amount):\n",
    "  #TODO-2: Inside the encrypt function, shift each letter of the text forwards in the alphabet by the shift amount and print the encrypted text.  \n",
    "  #e.g. \n",
    "  #plain_text = \"hello\"\n",
    "  #shift = 5\n",
    "  #cipher_text = \"mjqqt\"\n",
    "  #print output: \"The encoded text is mjqqt\"\n",
    "  cipher_text = \"\"\n",
    "  for letter in plain_text:\n",
    "    position = alphabet.index(letter)\n",
    "    new_position = position + shift_amount\n",
    "    new_letter = alphabet[new_position]\n",
    "    cipher_text += new_letter\n",
    "  print(f\"The encoded text is {cipher_text}\")\n",
    "\n",
    "#TODO-3: Call the encrypt function and pass in the user inputs. You should be able to test the code and encrypt a message. \n",
    "encrypt(plain_text=text, shift_amount=shift)"
   ]
  }
 ]
}