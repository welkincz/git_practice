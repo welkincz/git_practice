{
 "metadata": {
  "language_info": {
   "codemirror_mode": {
    "name": "ipython",
    "version": 3
   },
   "file_extension": ".py",
   "mimetype": "text/x-python",
   "name": "python",
   "nbconvert_exporter": "python",
   "pygments_lexer": "ipython3",
   "version": "3.9.0"
  },
  "orig_nbformat": 4,
  "kernelspec": {
   "name": "python3",
   "display_name": "Python 3.9.0 64-bit"
  },
  "interpreter": {
   "hash": "e44e41db11786db76544ae5bf756a1a1dda17056d8189bdc17eb6d4213282a93"
  }
 },
 "nbformat": 4,
 "nbformat_minor": 2,
 "cells": [
  {
   "cell_type": "code",
   "execution_count": null,
   "metadata": {},
   "outputs": [],
   "source": [
    "# https://www.askpython.com/python-modules/python-random-module-generate-random-numbers-sequences"
   ]
  },
  {
   "cell_type": "code",
   "execution_count": 8,
   "metadata": {},
   "outputs": [
    {
     "output_type": "stream",
     "name": "stdout",
     "text": [
      "164\n"
     ]
    }
   ],
   "source": [
    "import random\n",
    "a= random.randint(100,200)\n",
    "print(a)"
   ]
  },
  {
   "cell_type": "code",
   "execution_count": 19,
   "metadata": {},
   "outputs": [
    {
     "output_type": "stream",
     "name": "stdout",
     "text": [
      "1.119194144915866\n"
     ]
    }
   ],
   "source": [
    "random_float = random.random()\n",
    "print(random_float*5)"
   ]
  },
  {
   "cell_type": "code",
   "execution_count": 64,
   "metadata": {},
   "outputs": [
    {
     "output_type": "stream",
     "name": "stdout",
     "text": [
      "tail\nheads\nheads\nheads\nheads\ntail\ntail\nheads\nheads\nheads\nheads\nheads\ntail\nheads\nheads\nheads\ntail\ntail\ntail\nheads\nheads\ntail\nheads\nheads\nheads\nheads\ntail\nheads\ntail\nheads\ntail\ntail\nheads\ntail\ntail\nheads\nheads\nheads\nheads\ntail\nheads\nheads\nheads\nheads\ntail\ntail\nheads\nheads\nheads\nheads\nheads\nheads\nheads\nheads\nheads\nheads\ntail\ntail\ntail\ntail\ntail\ntail\nheads\ntail\nheads\ntail\ntail\ntail\nheads\nheads\ntail\nheads\nheads\ntail\nheads\ntail\nheads\nheads\ntail\ntail\ntail\nheads\nheads\nheads\ntail\nheads\ntail\nheads\ntail\ntail\nheads\nheads\nheads\nheads\nheads\nheads\ntail\ntail\ntail\nheads\n0.6\n"
     ]
    }
   ],
   "source": [
    "# Heads or Tails\n",
    "results = random.randint(0,1)\n",
    "heads_count=0\n",
    "for i in range(100):    \n",
    "    results = random.randint(0,1)\n",
    "    if results==0:\n",
    "        print(\"heads\")\n",
    "        heads_count +=1\n",
    "    else: \n",
    "        print(\"tail\")\n",
    "    \n",
    "print(heads_count/100)"
   ]
  },
  {
   "cell_type": "code",
   "execution_count": null,
   "metadata": {},
   "outputs": [],
   "source": [
    "# lsit documentation\n",
    "# https://docs.python.org/3/tutorial/datastructures.html"
   ]
  },
  {
   "cell_type": "code",
   "execution_count": 93,
   "metadata": {},
   "outputs": [
    {
     "output_type": "stream",
     "name": "stdout",
     "text": [
      "tim \n"
     ]
    }
   ],
   "source": [
    "# Banker Roulette-who will pay the bill\n",
    "# Split string method\n",
    "names_string = input(\"Give me everybody's names, separated by a comma. \")\n",
    "names = names_string.split(\", \")\n",
    "# 🚨 Don't change the code above 👆\n",
    "\n",
    "#Write your code below this line 👇\n",
    "# print(f\"The one should pay the bill is {names[random.randint(0,len(names))]}\")\n",
    "a = random.randint(0,len(names)-1)\n",
    "print(names[a])\n"
   ]
  },
  {
   "cell_type": "code",
   "execution_count": 97,
   "metadata": {},
   "outputs": [
    {
     "output_type": "stream",
     "name": "stdout",
     "text": [
      "[['Strawberries', 'Nectarines', 'Apples', 'Grapes', 'Peaches', 'Cherries', 'Pears'], ['Spinach', 'Kale', 'Tomatoes', 'Celery', 'Potatoes']]\n"
     ]
    }
   ],
   "source": [
    "fruits = [\"Strawberries\",\"Nectarines\",\"Apples\",\"Grapes\",\"Peaches\",\"Cherries\",\"Pears\"]\n",
    "vegetables = [\"Spinach\",\"Kale\",\"Tomatoes\",\"Celery\",\"Potatoes\"]\n",
    "\n",
    "dirty_dozen = [fruits,vegetables]\n",
    "# nested list\n",
    "print(dirty_dozen)"
   ]
  },
  {
   "cell_type": "code",
   "execution_count": 117,
   "metadata": {},
   "outputs": [
    {
     "output_type": "stream",
     "name": "stdout",
     "text": [
      "['⬜️', '⬜️', '⬜️']\n['⬜️', '⬜️', '⬜️']\n['⬜️', 'X', '⬜️']\n"
     ]
    }
   ],
   "source": [
    "# Day-4-3-exercise\n",
    "# 🚨 Don't change the code below 👇\n",
    "row1 = [\"⬜️\",\"⬜️\",\"⬜️\"]\n",
    "row2 = [\"⬜️\",\"⬜️\",\"⬜️\"]\n",
    "row3 = [\"⬜️\",\"⬜️\",\"⬜️\"]\n",
    "map = [row1, row2, row3]\n",
    "# print(f\"{row1}\\n{row2}\\n{row3}\")\n",
    "position = input(\"Where do you want to put the treasure? \")\n",
    "# 🚨 Don't change the code above 👆\n",
    "\n",
    "#Write your code below this row 👇\n",
    "column= int(list(position)[0])\n",
    "row = int(list(position)[1])\n",
    "map[row-1][column-1] =\"X\"\n",
    "\n",
    "#Write your code above this row 👆\n",
    "\n",
    "# 🚨 Don't change the code below 👇\n",
    "print(f\"{row1}\\n{row2}\\n{row3}\")"
   ]
  },
  {
   "cell_type": "code",
   "execution_count": 129,
   "metadata": {},
   "outputs": [
    {
     "output_type": "stream",
     "name": "stdout",
     "text": [
      "you chose:\n \n    _______\n---'   ____)____\n          ______)\n       __________)\n      (____)\n---.__(___)\n\ncomputer chose:\n \n    _______\n---'   ____)____\n          ______)\n          _______)\n         _______)\n---.__________)\n\nyou won\n"
     ]
    }
   ],
   "source": [
    "# Rock Paper Scissors\n",
    "rock = '''\n",
    "    _______\n",
    "---'   ____)\n",
    "      (_____)\n",
    "      (_____)\n",
    "      (____)\n",
    "---.__(___)\n",
    "'''\n",
    "\n",
    "paper = '''\n",
    "    _______\n",
    "---'   ____)____\n",
    "          ______)\n",
    "          _______)\n",
    "         _______)\n",
    "---.__________)\n",
    "'''\n",
    "\n",
    "scissors = '''\n",
    "    _______\n",
    "---'   ____)____\n",
    "          ______)\n",
    "       __________)\n",
    "      (____)\n",
    "---.__(___)\n",
    "'''\n",
    "\n",
    "display = [rock,paper,scissors]\n",
    "your_choice = int(input(\"What do you choose?Type 0 for Rock,1 for Paper or 2 for Scissors\"))\n",
    "print(f\"you chose:\\n {display[your_choice]}\")\n",
    "\n",
    "computer_choice = random.randint(0,2)\n",
    "print(f\"computer chose:\\n {display[computer_choice]}\" )\n",
    "\n",
    "if your_choice==computer_choice:\n",
    "    print(\"tie game\")\n",
    "elif your_choice - computer_choice ==1:\n",
    "    print(\"you won\")\n",
    "else:\n",
    "    print(\"computer won\")\n"
   ]
  }
 ]
}