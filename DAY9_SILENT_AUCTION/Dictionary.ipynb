{
 "metadata": {
  "language_info": {
   "codemirror_mode": {
    "name": "ipython",
    "version": 3
   },
   "file_extension": ".py",
   "mimetype": "text/x-python",
   "name": "python",
   "nbconvert_exporter": "python",
   "pygments_lexer": "ipython3",
   "version": "3.9.0"
  },
  "orig_nbformat": 4,
  "kernelspec": {
   "name": "python3",
   "display_name": "Python 3.9.0 64-bit"
  },
  "interpreter": {
   "hash": "e44e41db11786db76544ae5bf756a1a1dda17056d8189bdc17eb6d4213282a93"
  }
 },
 "nbformat": 4,
 "nbformat_minor": 2,
 "cells": [
  {
   "cell_type": "code",
   "execution_count": 3,
   "metadata": {},
   "outputs": [
    {
     "output_type": "stream",
     "name": "stdout",
     "text": [
      "A piece of code that you can easily call over and over again.\n"
     ]
    }
   ],
   "source": [
    "programming_dictionary = {\n",
    "    \"Bug\": \"An error in a program that prevents the program from running as expected.\", \n",
    "    \"Function\": \"A piece of code that you can easily call over and over again.\"\n",
    "}\n",
    "\n",
    "# Retrieving items from dictionary.\n",
    "print(programming_dictionary[\"Function\"])\n",
    "\n",
    "# Adding new items to dictionary.\n",
    "programming_dictionary[\"Loop\"]=\"new\"\n",
    "\n",
    "#Create an empty dictionary\n",
    "empty_dic ={}\n",
    "\n"
   ]
  },
  {
   "cell_type": "code",
   "execution_count": 7,
   "metadata": {},
   "outputs": [
    {
     "output_type": "stream",
     "name": "stdout",
     "text": [
      "Bug\nAn error in a program that prevents the program from running as expected.\nFunction\nA piece of code that you can easily call over and over again.\nLoop\nnew\n"
     ]
    }
   ],
   "source": [
    "for thing in programming_dictionary:\n",
    "    print(thing)\n",
    "    print(programming_dictionary[thing])"
   ]
  },
  {
   "cell_type": "code",
   "execution_count": 7,
   "metadata": {},
   "outputs": [
    {
     "output_type": "stream",
     "name": "stdout",
     "text": [
      "{'Harry': 'Exceed Expectations', 'Ron': 'Acceptatble', 'Hermione': 'Outstanding', 'Draco': 'Acceptatble', 'Neville': 'too close'}\n"
     ]
    }
   ],
   "source": [
    "student_scores = {\n",
    "  \"Harry\": 81,\n",
    "  \"Ron\": 78,\n",
    "  \"Hermione\": 99, \n",
    "  \"Draco\": 74,\n",
    "  \"Neville\": 62,\n",
    "}\n",
    "# 🚨 Don't change the code above 👆\n",
    "\n",
    "#TODO-1: Create an empty dictionary called student_grades.\n",
    "student_grades={}\n",
    "\n",
    "#TODO-2: Write your code below to add the grades to student_grades.👇\n",
    "for student in student_scores:\n",
    "    score = student_scores[student]\n",
    "    if score>90:\n",
    "        student_grades[student]=\"Outstanding\"\n",
    "    elif score>80:\n",
    "        student_grades[student]=\"Exceed Expectations\"\n",
    "    elif score>70:\n",
    "        student_grades[student]=\"Acceptatble\"\n",
    "    elif score>60:\n",
    "         student_grades[student]=\"too close\"\n",
    "    \n",
    "\n",
    "# 🚨 Don't change the code below 👇\n",
    "print(student_grades)"
   ]
  },
  {
   "cell_type": "code",
   "execution_count": null,
   "metadata": {},
   "outputs": [],
   "source": [
    "#Nesting\n",
    "#{key:[list],\n",
    "# key2:{dict}}\n",
    "\n",
    "capitals ={\n",
    "    \"France\":\"Paris\",\n",
    "    \"Germany\":\"Berlin\"\n",
    "}\n",
    "\n",
    "travel_log ={\n",
    "    \"France\":[\"Paris\",\"Little\",\"Dijon\"]\n",
    "    \"German\":[\"Berlin\",\"Hamburg\",\"Stuttgart\"]\n",
    "}\n",
    "\n",
    "travel_log ={\n",
    "    \"France\":{\"cities_visited\":[\"Paris\",\"Little\",\"Dijon\"],\"wish_list\":[\"zhuhai\",\"Guangzhou\"]}\n",
    "    \"German\":[\"Berlin\",\"Hamburg\",\"Stuttgart\"]\n",
    "}\n"
   ]
  },
  {
   "cell_type": "code",
   "execution_count": 18,
   "metadata": {},
   "outputs": [
    {
     "output_type": "stream",
     "name": "stdout",
     "text": [
      "[{'country': 'France', 'visits': 12, 'cities': ['Paris', 'Lille', 'Dijon']}, {'country': 'Germany', 'visits': 5, 'cities': ['Berlin', 'Hamburg', 'Stuttgart']}, {'country': 'Russia', 'visits': 2, 'cities': ['Moscow', 'Saint Petersburg']}]\n"
     ]
    }
   ],
   "source": [
    "travel_log = [\n",
    "{\n",
    "  \"country\": \"France\",\n",
    "  \"visits\": 12,\n",
    "  \"cities\": [\"Paris\", \"Lille\", \"Dijon\"]\n",
    "},\n",
    "{\n",
    "  \"country\": \"Germany\",\n",
    "  \"visits\": 5,\n",
    "  \"cities\": [\"Berlin\", \"Hamburg\", \"Stuttgart\"]\n",
    "},\n",
    "]\n",
    "#🚨 Do NOT change the code above\n",
    "\n",
    "#TODO: Write the function that will allow new countries\n",
    "#to be added to the travel_log. 👇\n",
    "def add_new_country(country,visit,city):\n",
    "    # country=input(\"Please key in a country you have been.\")\n",
    "    # visit=input(\"how many time have you been there\")\n",
    "    # city=input(\"which city have you been?\").split()\n",
    "    new_country={\"country\":country,\n",
    "        \"visits\":visit,\n",
    "        \"cities\":city}\n",
    "    travel_log.append(new_country)\n",
    "\n",
    "\n",
    "\n",
    "#🚨 Do not change the code below\n",
    "add_new_country(\"Russia\", 2, [\"Moscow\", \"Saint Petersburg\"])\n",
    "print(travel_log)"
   ]
  },
  {
   "cell_type": "code",
   "execution_count": 30,
   "metadata": {},
   "outputs": [
    {
     "output_type": "stream",
     "name": "stdout",
     "text": [
      "\n",
      "                         ___________\n",
      "                         \\         /\n",
      "                          )_______(\n",
      "                          |\"\"\"\"\"\"\"|_.-._,.---------.,_.-._\n",
      "                          |       | | |               | | ''-.\n",
      "                          |       |_| |_             _| |_..-'\n",
      "                          |_______| '-' `'---------'` '-'\n",
      "                          )\"\"\"\"\"\"\"(\n",
      "                         /_________\\\n",
      "                       .-------------.\n",
      "                      /_______________\\\n",
      "\n",
      "\u001b[H\u001b[2Jhighest biddir is b and higest bid is 200\n"
     ]
    }
   ],
   "source": [
    "# silence auction\n",
    "logo = '''\n",
    "                         ___________\n",
    "                         \\         /\n",
    "                          )_______(\n",
    "                          |\"\"\"\"\"\"\"|_.-._,.---------.,_.-._\n",
    "                          |       | | |               | | ''-.\n",
    "                          |       |_| |_             _| |_..-'\n",
    "                          |_______| '-' `'---------'` '-'\n",
    "                          )\"\"\"\"\"\"\"(\n",
    "                         /_________\\\\\n",
    "                       .-------------.\n",
    "                      /_______________\\\\\n",
    "'''\n",
    "\n",
    "from replit import clear\n",
    "\n",
    "print(logo)\n",
    "bid_dict={}\n",
    "bidding_finished = False\n",
    "\n",
    "def find_higest_bidder (bid_dict):\n",
    "  highest_bid=0\n",
    "  hiest_bidder = \"\"\n",
    "  for bidder in bid_dict:\n",
    "    bid_amount=bid_dict[bidder]\n",
    "    if bid_amount>highest_bid:\n",
    "      highest_bid=bid_amount\n",
    "      hiest_bidder=bidder\n",
    "  print(f\"highest biddir is {hiest_bidder} and higest bid is {highest_bid}\")\n",
    "\n",
    "while not bidding_finished:\n",
    "  name=input(\"please provide your name\")\n",
    "  bid=int(input(\"please provide your bid price $\"))\n",
    "  bid_dict[name]=bid\n",
    "\n",
    "  other_bidder=input(\"if there are other bidder?yes or no\")\n",
    "  if other_bidder==\"no\":\n",
    "    bidding_finished =True\n",
    "  elif other_bidder==\"yes\":\n",
    "    clear()\n",
    "    \n",
    "find_higest_bidder(bid_dict)\n",
    "    \n",
    "\n",
    "\n",
    "  "
   ]
  },
  {
   "cell_type": "code",
   "execution_count": 25,
   "metadata": {},
   "outputs": [
    {
     "output_type": "stream",
     "name": "stdout",
     "text": [
      "\n",
      "                         ___________\n",
      "                         \\         /\n",
      "                          )_______(\n",
      "                          |\"\"\"\"\"\"\"|_.-._,.---------.,_.-._\n",
      "                          |       | | |               | | ''-.\n",
      "                          |       |_| |_             _| |_..-'\n",
      "                          |_______| '-' `'---------'` '-'\n",
      "                          )\"\"\"\"\"\"\"(\n",
      "                         /_________\\\n",
      "                       .-------------.\n",
      "                      /_______________\\\n",
      "\n",
      "The winner is cz with a bid of $11\n"
     ]
    }
   ],
   "source": [
    "print(logo)\n",
    "\n",
    "bids = {}\n",
    "bidding_finished = False\n",
    "\n",
    "def find_highest_bidder(bidding_record):\n",
    "  highest_bid = 0\n",
    "  winner = \"\"\n",
    "  # bidding_record = {\"Angela\": 123, \"James\": 321}\n",
    "  for bidder in bidding_record:\n",
    "    bid_amount = bidding_record[bidder]\n",
    "    if bid_amount > highest_bid: \n",
    "      highest_bid = bid_amount\n",
    "      winner = bidder\n",
    "  print(f\"The winner is {winner} with a bid of ${highest_bid}\")\n",
    "\n",
    "while not bidding_finished:\n",
    "  name = input(\"What is your name?: \")\n",
    "  price = int(input(\"What is your bid?: $\"))\n",
    "  bids[name] = price\n",
    "  should_continue = input(\"Are there any other bidders? Type 'yes or 'no'.\\n\")\n",
    "  if should_continue == \"no\":\n",
    "    bidding_finished = True\n",
    "    find_highest_bidder(bids)\n",
    "  elif should_continue == \"yes\":\n",
    "    clear()\n",
    "  \n"
   ]
  }
 ]
}